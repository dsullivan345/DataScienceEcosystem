{
 "cells": [
  {
   "cell_type": "markdown",
   "id": "5a3c5b6d-1672-49e5-a682-d5cbd1f77de7",
   "metadata": {},
   "source": [
    "<h1>Data Science Tools and Ecosystem</h1>"
   ]
  },
  {
   "cell_type": "markdown",
   "id": "53f92794-9e9e-4267-8109-5b72a0eaa84d",
   "metadata": {},
   "source": [
    "In this notebook, Data Science Tools and Ecosystem are summarized."
   ]
  },
  {
   "cell_type": "markdown",
   "id": "8e932a78-5306-4e8d-adf6-b5d7133e9f82",
   "metadata": {},
   "source": [
    "**Objectives:**\n",
    "- List popular languages for Data Science\n",
    "- List some commonly used libraries for Data Science\n",
    "- Convert minutes to hours"
   ]
  },
  {
   "cell_type": "markdown",
   "id": "22cce863-5d4e-4c6a-88ca-988ab3832a51",
   "metadata": {},
   "source": [
    "Some of the popular languages that Data Scientists use are:\n",
    "1. Python\n",
    "2. R\n",
    "3. C++"
   ]
  },
  {
   "cell_type": "markdown",
   "id": "5c8e9e15-cbec-4986-b23c-ea8ad2e405bf",
   "metadata": {},
   "source": [
    "Some of the commonly used libraries used by Data Scientists include:\n",
    "1. Pandas\n",
    "2. NumPy\n",
    "3. Matplotlib"
   ]
  },
  {
   "cell_type": "markdown",
   "id": "c1a541d8-9715-4e19-9ab6-bba29897cf87",
   "metadata": {},
   "source": [
    "|Data Science Tools|\n",
    "|--------|\n",
    "|Jupyter Notebook|\n",
    "|RStudio|\n",
    "|Github|"
   ]
  },
  {
   "cell_type": "markdown",
   "id": "1309e840-9466-4e1a-8aa9-dfd1ecde74ee",
   "metadata": {},
   "source": [
    "<h3>Below are a few examples of evaluating arithmetic expressions in Python</h3>"
   ]
  },
  {
   "cell_type": "code",
   "execution_count": 2,
   "id": "c4453dbc-0c1c-4b13-a543-7aefb24aaa6f",
   "metadata": {},
   "outputs": [
    {
     "data": {
      "text/plain": [
       "17"
      ]
     },
     "execution_count": 2,
     "metadata": {},
     "output_type": "execute_result"
    }
   ],
   "source": [
    "#This is a simple arithmetic expression to multiply then add integers\n",
    "(3*4)+5"
   ]
  },
  {
   "cell_type": "code",
   "execution_count": 13,
   "id": "2df06b76-b306-4b1d-bec5-c77661b75afa",
   "metadata": {},
   "outputs": [
    {
     "name": "stdout",
     "output_type": "stream",
     "text": [
      "200 minutes is 3.3333333333333335 hours\n"
     ]
    }
   ],
   "source": [
    "#This will convert 200 minutes to hours by dividing by 60\n",
    "hours = 200 / 60\n",
    "print(\"200 minutes is\", hours, \"hours\")"
   ]
  },
  {
   "cell_type": "markdown",
   "id": "1f7ff8c3-9756-47ff-b345-4be5b51c75a6",
   "metadata": {},
   "source": [
    "<h2>Author</h2>\n",
    "Dylan Sullivan"
   ]
  },
  {
   "cell_type": "code",
   "execution_count": null,
   "id": "76d9fc30-167c-41b8-b9a8-d479068c8772",
   "metadata": {},
   "outputs": [],
   "source": []
  }
 ],
 "metadata": {
  "kernelspec": {
   "display_name": "Python [conda env:base] *",
   "language": "python",
   "name": "conda-base-py"
  },
  "language_info": {
   "codemirror_mode": {
    "name": "ipython",
    "version": 3
   },
   "file_extension": ".py",
   "mimetype": "text/x-python",
   "name": "python",
   "nbconvert_exporter": "python",
   "pygments_lexer": "ipython3",
   "version": "3.13.5"
  }
 },
 "nbformat": 4,
 "nbformat_minor": 5
}
